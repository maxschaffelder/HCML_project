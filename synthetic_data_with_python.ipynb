{
 "cells": [
  {
   "cell_type": "code",
   "execution_count": 1,
   "metadata": {},
   "outputs": [],
   "source": [
    "# https://docs.sdv.dev/sdv/single-table-data/modeling/synthesizers\n",
    "\n",
    "import pandas as pd\n",
    "from sdv.metadata import SingleTableMetadata\n",
    "from sdv.single_table import TVAESynthesizer, GaussianCopulaSynthesizer, CTGANSynthesizer\n",
    "from sklearn.model_selection import train_test_split"
   ]
  },
  {
   "cell_type": "code",
   "execution_count": 2,
   "metadata": {},
   "outputs": [],
   "source": [
    "df = pd.read_csv(\"data/ACS_50k_RACE_3.csv\", index_col=\"id\")\n",
    "\n",
    "# Create synthetic data using only training data to prevent data leakage\n",
    "def split_data(df):\n",
    "\n",
    "    X = df.drop(columns=['PINCP'])\n",
    "    y = df['PINCP']\n",
    "    X_train, X_test, y_train, y_test = train_test_split(X, y, test_size=0.3, random_state=42)\n",
    "    y_test = (y_test > 50_000).astype(int)\n",
    "\n",
    "    return X_train, X_test, y_train, y_test\n",
    "\n",
    "X_train, X_test, y_train, y_test = split_data(df)\n",
    "df = X_train.copy()\n",
    "df['PINCP'] = y_train\n",
    "\n"
   ]
  },
  {
   "cell_type": "markdown",
   "metadata": {},
   "source": [
    "# Using CTGAN"
   ]
  },
  {
   "cell_type": "code",
   "execution_count": 19,
   "metadata": {},
   "outputs": [
    {
     "name": "stderr",
     "output_type": "stream",
     "text": [
      "/Users/maxschaffelder/venv/first_venv/lib/python3.10/site-packages/sdv/single_table/base.py:84: UserWarning: We strongly recommend saving the metadata using 'save_to_json' for replicability in future SDV versions.\n",
      "  warnings.warn(\n"
     ]
    }
   ],
   "source": [
    "# Create metadata for df\n",
    "metadata = SingleTableMetadata()\n",
    "metadata.detect_from_dataframe(data=df)\n",
    "\n",
    "synthesizer = CTGANSynthesizer(metadata)\n",
    "synthesizer.fit(df)\n",
    "\n",
    "synthetic_data = synthesizer.sample(364)  # Generate 364 synthetic samples\n",
    "\n",
    "#synthetic_data.to_csv(\"data/CTGAN_data.csv\")\n"
   ]
  },
  {
   "cell_type": "markdown",
   "metadata": {},
   "source": [
    "# Using Random OverSampling (ROS)"
   ]
  },
  {
   "cell_type": "code",
   "execution_count": 24,
   "metadata": {},
   "outputs": [],
   "source": [
    "additional_samples = df.sample(n=364, replace=True, random_state=42)\n",
    "additional_samples.head()\n",
    "\n",
    "#additional_samples.to_csv(\"data/ROS_data.csv\", index=False)"
   ]
  },
  {
   "cell_type": "markdown",
   "metadata": {},
   "source": [
    "# Using variational autoencoder (TVAE)"
   ]
  },
  {
   "cell_type": "code",
   "execution_count": 11,
   "metadata": {},
   "outputs": [],
   "source": [
    "synthesizer_vae = TVAESynthesizer(metadata)\n",
    "synthesizer_vae.fit(df)\n",
    "synthetic_data_vae = synthesizer_vae.sample(364)  # Generate 364 synthetic samples\n",
    "\n",
    "#synthetic_data_vae.to_csv(\"data/TVAE_data.csv\")"
   ]
  },
  {
   "cell_type": "markdown",
   "metadata": {},
   "source": [
    "# Using Gaussian Copula"
   ]
  },
  {
   "cell_type": "code",
   "execution_count": 12,
   "metadata": {},
   "outputs": [],
   "source": [
    "synthesizer_gc = GaussianCopulaSynthesizer(metadata)\n",
    "synthesizer_gc.fit(df)\n",
    "synthetic_data_gc = synthesizer_gc.sample(364)  # Generate 364 synthetic samples\n",
    "\n",
    "#synthetic_data_gc.to_csv(\"data/GC_data.csv\", index=False)"
   ]
  }
 ],
 "metadata": {
  "kernelspec": {
   "display_name": "first_venv",
   "language": "python",
   "name": "python3"
  },
  "language_info": {
   "codemirror_mode": {
    "name": "ipython",
    "version": 3
   },
   "file_extension": ".py",
   "mimetype": "text/x-python",
   "name": "python",
   "nbconvert_exporter": "python",
   "pygments_lexer": "ipython3",
   "version": "3.10.12"
  }
 },
 "nbformat": 4,
 "nbformat_minor": 2
}
