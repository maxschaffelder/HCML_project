{
 "cells": [
  {
   "cell_type": "markdown",
   "metadata": {},
   "source": [
    "# Import"
   ]
  },
  {
   "cell_type": "code",
   "execution_count": 13,
   "metadata": {},
   "outputs": [],
   "source": [
    "import pandas as pd\n",
    "import numpy as np\n",
    "from sklearn.model_selection import train_test_split\n",
    "from sklearn.tree import DecisionTreeRegressor, DecisionTreeClassifier\n",
    "from sklearn.linear_model import LinearRegression, LogisticRegression\n",
    "\n",
    "from sklearn.metrics import accuracy_score, f1_score, recall_score, precision_score\n",
    "\n",
    "from fairlearn.metrics import (demographic_parity_difference,\n",
    "                               demographic_parity_ratio,\n",
    "                               equalized_odds_difference,\n",
    "                               equalized_odds_ratio,\n",
    "                               MetricFrame,\n",
    "                               false_positive_rate,\n",
    "                               selection_rate,\n",
    "                               true_positive_rate)"
   ]
  },
  {
   "cell_type": "markdown",
   "metadata": {},
   "source": [
    "# Parameters"
   ]
  },
  {
   "cell_type": "code",
   "execution_count": 4,
   "metadata": {},
   "outputs": [],
   "source": [
    "# parameters and configuration\n",
    "INC_THRESHOLD = 50_000\n",
    "ROUND_DIGITS = 4\n",
    "SELECT_FEATURES = ['AGEP', 'COW', 'SCHL',\n",
    "                   'MAR', 'OCCP', 'POBP',\n",
    "                   'RELP', 'WKHP', 'SEX',\n",
    "                   'RAC1P', 'ST']\n",
    "SPLIT_SEED = 42\n",
    "TEST_SIZE = 0.3"
   ]
  },
  {
   "cell_type": "markdown",
   "metadata": {},
   "source": [
    "# Read data"
   ]
  },
  {
   "cell_type": "code",
   "execution_count": 2,
   "metadata": {},
   "outputs": [],
   "source": [
    "df_1 = pd.read_csv(\"data/ACS_50k_RACE_3.csv\", index_col=\"id\")\n",
    "df_2 = pd.read_csv(\"data/prompt 2 - 336 samples.csv\", index_col=\"id\")\n",
    "df_4 = pd.read_csv(\"data/prompt 4 - 410 samples.csv\", index_col=\"id\")\n",
    "df_5 = pd.read_csv(\"data/prompt 5 - 410 samples.csv\", index_col=\"id\")\n",
    "\n",
    "df_og = pd.read_csv(\"data/ACS_50k.csv\", index_col=\"id\")\n",
    "df_og_50k = df_og.copy()"
   ]
  },
  {
   "cell_type": "markdown",
   "metadata": {},
   "source": [
    "# Pre-processing"
   ]
  },
  {
   "cell_type": "code",
   "execution_count": 3,
   "metadata": {},
   "outputs": [],
   "source": [
    "dfs_synth = [df_1, df_2, df_4, df_5]\n",
    "\n",
    "df_og = df_og[df_og.RAC1P == 9]\n",
    "\n",
    "for idx, df in enumerate(dfs_synth):\n",
    "    dfs_synth[idx] = pd.concat([df, df_og], axis=0, ignore_index=True)\n",
    "    dfs_synth[idx].reset_index()"
   ]
  },
  {
   "cell_type": "markdown",
   "metadata": {},
   "source": [
    "# Data splitting"
   ]
  },
  {
   "cell_type": "code",
   "execution_count": 5,
   "metadata": {},
   "outputs": [],
   "source": [
    "def split_data(df):\n",
    "\n",
    "    X = df[SELECT_FEATURES]\n",
    "    # df['INC_BINARY'] = (df['PINCP'] > INC_TRESHOLD).astype(int)\n",
    "    y = df['PINCP']\n",
    "    X_train, X_test, y_train, y_test = train_test_split(X, y, test_size=TEST_SIZE, random_state=SPLIT_SEED)\n",
    "    y_test = (y_test > INC_THRESHOLD).astype(int)\n",
    "\n",
    "    return X_train, X_test, y_train, y_test"
   ]
  },
  {
   "cell_type": "markdown",
   "metadata": {},
   "source": [
    "# Training"
   ]
  },
  {
   "cell_type": "code",
   "execution_count": 9,
   "metadata": {},
   "outputs": [],
   "source": [
    "def train_models(X_train, y_train):\n",
    "    ml_algos = [DecisionTreeRegressor, LinearRegression]\n",
    "\n",
    "    models_dict = {}\n",
    "    for algo in ml_algos:\n",
    "        model = algo()\n",
    "        model.fit(X_train, y_train)\n",
    "        models_dict[algo.__name__] = model\n",
    "    return models_dict"
   ]
  },
  {
   "cell_type": "markdown",
   "metadata": {},
   "source": [
    "# Metrics"
   ]
  },
  {
   "cell_type": "code",
   "execution_count": 58,
   "metadata": {},
   "outputs": [],
   "source": [
    "def _make_predictions(model_dict, X_test):\n",
    "    preds_dict = {}\n",
    "    for algo, model in model_dict.items():\n",
    "        pred = model.predict(X_test)\n",
    "        pred = (pred > INC_THRESHOLD).astype(int)\n",
    "        preds_dict[algo] = pred\n",
    "    return preds_dict\n",
    "\n",
    "\n",
    "def get_ml_metrics(model_dict, X_test, y_test):\n",
    "    preds_dict = _make_predictions(model_dict, X_test)\n",
    "    metrics_dict = {}\n",
    "    for algo, pred in preds_dict.items():\n",
    "        metrics_dict[algo] = {}\n",
    "        metrics_dict[algo]['Accuracy'] = round(accuracy_score(y_test, pred), ndigits=ROUND_DIGITS)\n",
    "        metrics_dict[algo]['F1'] = round(f1_score(y_test, pred), ndigits=ROUND_DIGITS)\n",
    "    return metrics_dict\n",
    "\n",
    "\n",
    "def _get_parity_frame(model_dict, y_true, X_test):\n",
    "        preds_dict = _make_predictions(model_dict, X_test)\n",
    "        frames_dict = {}\n",
    "        for algo, pred in preds_dict.items():\n",
    "            sel_rate = MetricFrame(\n",
    "                metrics=selection_rate,\n",
    "                y_true=y_true,\n",
    "                y_pred=pred,\n",
    "                sensitive_features=X_test['RAC1P']\n",
    "            )\n",
    "            frames_dict[algo] = sel_rate\n",
    "        return frames_dict\n",
    "\n",
    "\n",
    "def _get_equalized_odds_frame(model_dict, y_true, X_test):\n",
    "        preds_dict = _make_predictions(model_dict, X_test)\n",
    "        frames_dict = {}\n",
    "        for algo, pred in preds_dict.items():\n",
    "            fns = {\"tpr\": true_positive_rate, \"fpr\": false_positive_rate}\n",
    "            eo = MetricFrame(\n",
    "                metrics=fns,\n",
    "                y_true=y_true,\n",
    "                y_pred=pred,\n",
    "                sensitive_features=X_test['RAC1P'],\n",
    "            )\n",
    "            frames_dict[algo] = eo\n",
    "        return frames_dict\n",
    "\n",
    "\n",
    "def get_fairness_frames(model_dict, y_true, X_test):\n",
    "    frames_dict = {}\n",
    "    for algo, model in model_dict.items():\n",
    "          frames_dict[algo] = {}\n",
    "          parity_dict = _get_parity_frame({algo: model}, y_true, X_test)\n",
    "          eo_dict = _get_equalized_odds_frame({algo: model}, y_true, X_test)\n",
    "          frames_dict[algo]['Demographic parity frame'] = parity_dict[algo]\n",
    "          frames_dict[algo]['Equalized odds frame'] = eo_dict[algo]\n",
    "    return frames_dict\n",
    "     \n",
    "\n",
    "\n",
    "def get_fairness_metrics(model_dict, X_test, y_test):\n",
    "    preds_dict = _make_predictions(model_dict, X_test)\n",
    "    metrics_dict = {}\n",
    "    for algo, pred in preds_dict.items():\n",
    "        metrics_dict[algo] = {}\n",
    "        metrics_dict[algo]['Demographic parity difference'] = \\\n",
    "            demographic_parity_difference(y_test, pred, sensitive_features=X_test['RAC1P'])\n",
    "        metrics_dict[algo]['Demographic parity ratio'] = \\\n",
    "            demographic_parity_ratio(y_test, pred, sensitive_features=X_test['RAC1P'])\n",
    "        metrics_dict[algo]['Equalized odds difference'] = \\\n",
    "            equalized_odds_difference(y_test, pred, sensitive_features=X_test['RAC1P'])\n",
    "        metrics_dict[algo]['Equalized odds ratio'] = \\\n",
    "            equalized_odds_ratio(y_test, pred, sensitive_features=X_test['RAC1P'])\n",
    "    return metrics_dict"
   ]
  },
  {
   "cell_type": "markdown",
   "metadata": {},
   "source": [
    "# Main code\n",
    "\n",
    "First, analyzing the whole 50k dataset by running fairness metrics on all races\n",
    "\n",
    "Second, analyzing the merged synthetic datasets"
   ]
  },
  {
   "cell_type": "code",
   "execution_count": 60,
   "metadata": {},
   "outputs": [
    {
     "name": "stdout",
     "output_type": "stream",
     "text": [
      "DecisionTreeRegressor\n",
      "\n",
      "Demographic parity frame\n"
     ]
    },
    {
     "data": {
      "text/plain": [
       "RAC1P\n",
       "1.0    0.394726\n",
       "2.0    0.276580\n",
       "3.0    0.211009\n",
       "4.0    0.250000\n",
       "5.0    0.166667\n",
       "6.0    0.464411\n",
       "7.0    0.193548\n",
       "8.0    0.207641\n",
       "9.0    0.357746\n",
       "Name: selection_rate, dtype: float64"
      ]
     },
     "metadata": {},
     "output_type": "display_data"
    },
    {
     "name": "stdout",
     "output_type": "stream",
     "text": [
      "Equalized odds frame\n"
     ]
    },
    {
     "data": {
      "text/html": [
       "<div>\n",
       "<style scoped>\n",
       "    .dataframe tbody tr th:only-of-type {\n",
       "        vertical-align: middle;\n",
       "    }\n",
       "\n",
       "    .dataframe tbody tr th {\n",
       "        vertical-align: top;\n",
       "    }\n",
       "\n",
       "    .dataframe thead th {\n",
       "        text-align: right;\n",
       "    }\n",
       "</style>\n",
       "<table border=\"1\" class=\"dataframe\">\n",
       "  <thead>\n",
       "    <tr style=\"text-align: right;\">\n",
       "      <th></th>\n",
       "      <th>tpr</th>\n",
       "      <th>fpr</th>\n",
       "    </tr>\n",
       "    <tr>\n",
       "      <th>RAC1P</th>\n",
       "      <th></th>\n",
       "      <th></th>\n",
       "    </tr>\n",
       "  </thead>\n",
       "  <tbody>\n",
       "    <tr>\n",
       "      <th>1.0</th>\n",
       "      <td>0.633731</td>\n",
       "      <td>0.233997</td>\n",
       "    </tr>\n",
       "    <tr>\n",
       "      <th>2.0</th>\n",
       "      <td>0.535211</td>\n",
       "      <td>0.207352</td>\n",
       "    </tr>\n",
       "    <tr>\n",
       "      <th>3.0</th>\n",
       "      <td>0.500000</td>\n",
       "      <td>0.111111</td>\n",
       "    </tr>\n",
       "    <tr>\n",
       "      <th>4.0</th>\n",
       "      <td>0.000000</td>\n",
       "      <td>0.333333</td>\n",
       "    </tr>\n",
       "    <tr>\n",
       "      <th>5.0</th>\n",
       "      <td>0.500000</td>\n",
       "      <td>0.000000</td>\n",
       "    </tr>\n",
       "    <tr>\n",
       "      <th>6.0</th>\n",
       "      <td>0.686016</td>\n",
       "      <td>0.288703</td>\n",
       "    </tr>\n",
       "    <tr>\n",
       "      <th>7.0</th>\n",
       "      <td>0.375000</td>\n",
       "      <td>0.130435</td>\n",
       "    </tr>\n",
       "    <tr>\n",
       "      <th>8.0</th>\n",
       "      <td>0.510204</td>\n",
       "      <td>0.148810</td>\n",
       "    </tr>\n",
       "    <tr>\n",
       "      <th>9.0</th>\n",
       "      <td>0.612613</td>\n",
       "      <td>0.241803</td>\n",
       "    </tr>\n",
       "  </tbody>\n",
       "</table>\n",
       "</div>"
      ],
      "text/plain": [
       "            tpr       fpr\n",
       "RAC1P                    \n",
       "1.0    0.633731  0.233997\n",
       "2.0    0.535211  0.207352\n",
       "3.0    0.500000  0.111111\n",
       "4.0    0.000000  0.333333\n",
       "5.0    0.500000  0.000000\n",
       "6.0    0.686016  0.288703\n",
       "7.0    0.375000  0.130435\n",
       "8.0    0.510204  0.148810\n",
       "9.0    0.612613  0.241803"
      ]
     },
     "metadata": {},
     "output_type": "display_data"
    },
    {
     "name": "stdout",
     "output_type": "stream",
     "text": [
      "LinearRegression\n",
      "\n",
      "Demographic parity frame\n"
     ]
    },
    {
     "data": {
      "text/plain": [
       "RAC1P\n",
       "1.0    0.611953\n",
       "2.0    0.484015\n",
       "3.0    0.440367\n",
       "4.0    0.250000\n",
       "5.0    0.500000\n",
       "6.0    0.661610\n",
       "7.0    0.580645\n",
       "8.0    0.315615\n",
       "9.0    0.478873\n",
       "Name: selection_rate, dtype: float64"
      ]
     },
     "metadata": {},
     "output_type": "display_data"
    },
    {
     "name": "stdout",
     "output_type": "stream",
     "text": [
      "Equalized odds frame\n"
     ]
    },
    {
     "data": {
      "text/html": [
       "<div>\n",
       "<style scoped>\n",
       "    .dataframe tbody tr th:only-of-type {\n",
       "        vertical-align: middle;\n",
       "    }\n",
       "\n",
       "    .dataframe tbody tr th {\n",
       "        vertical-align: top;\n",
       "    }\n",
       "\n",
       "    .dataframe thead th {\n",
       "        text-align: right;\n",
       "    }\n",
       "</style>\n",
       "<table border=\"1\" class=\"dataframe\">\n",
       "  <thead>\n",
       "    <tr style=\"text-align: right;\">\n",
       "      <th></th>\n",
       "      <th>tpr</th>\n",
       "      <th>fpr</th>\n",
       "    </tr>\n",
       "    <tr>\n",
       "      <th>RAC1P</th>\n",
       "      <th></th>\n",
       "      <th></th>\n",
       "    </tr>\n",
       "  </thead>\n",
       "  <tbody>\n",
       "    <tr>\n",
       "      <th>1.0</th>\n",
       "      <td>0.895017</td>\n",
       "      <td>0.421595</td>\n",
       "    </tr>\n",
       "    <tr>\n",
       "      <th>2.0</th>\n",
       "      <td>0.845070</td>\n",
       "      <td>0.387370</td>\n",
       "    </tr>\n",
       "    <tr>\n",
       "      <th>3.0</th>\n",
       "      <td>0.785714</td>\n",
       "      <td>0.320988</td>\n",
       "    </tr>\n",
       "    <tr>\n",
       "      <th>4.0</th>\n",
       "      <td>0.000000</td>\n",
       "      <td>0.333333</td>\n",
       "    </tr>\n",
       "    <tr>\n",
       "      <th>5.0</th>\n",
       "      <td>1.000000</td>\n",
       "      <td>0.250000</td>\n",
       "    </tr>\n",
       "    <tr>\n",
       "      <th>6.0</th>\n",
       "      <td>0.918206</td>\n",
       "      <td>0.458159</td>\n",
       "    </tr>\n",
       "    <tr>\n",
       "      <th>7.0</th>\n",
       "      <td>0.875000</td>\n",
       "      <td>0.478261</td>\n",
       "    </tr>\n",
       "    <tr>\n",
       "      <th>8.0</th>\n",
       "      <td>0.734694</td>\n",
       "      <td>0.234127</td>\n",
       "    </tr>\n",
       "    <tr>\n",
       "      <th>9.0</th>\n",
       "      <td>0.828829</td>\n",
       "      <td>0.319672</td>\n",
       "    </tr>\n",
       "  </tbody>\n",
       "</table>\n",
       "</div>"
      ],
      "text/plain": [
       "            tpr       fpr\n",
       "RAC1P                    \n",
       "1.0    0.895017  0.421595\n",
       "2.0    0.845070  0.387370\n",
       "3.0    0.785714  0.320988\n",
       "4.0    0.000000  0.333333\n",
       "5.0    1.000000  0.250000\n",
       "6.0    0.918206  0.458159\n",
       "7.0    0.875000  0.478261\n",
       "8.0    0.734694  0.234127\n",
       "9.0    0.828829  0.319672"
      ]
     },
     "metadata": {},
     "output_type": "display_data"
    }
   ],
   "source": [
    "# Analyze fairness metrics on whole 50k dataset\n",
    "\n",
    "X_train, X_test, y_train, y_test = split_data(df_og_50k)\n",
    "model_dict = train_models(X_train, y_train)\n",
    "fairness_metrics = get_fairness_metrics(model_dict, X_test, y_test)\n",
    "frames = get_fairness_frames(model_dict, y_test, X_test)\n",
    "for algo, frame_dict in frames.items():\n",
    "    print(algo)\n",
    "    print()\n",
    "    for name, frame in frame_dict.items():\n",
    "        print(name)\n",
    "        display(frame.by_group)"
   ]
  },
  {
   "cell_type": "code",
   "execution_count": 61,
   "metadata": {},
   "outputs": [
    {
     "name": "stdout",
     "output_type": "stream",
     "text": [
      "Dataframe 1\n",
      "Class balance:\n",
      "{0: 342, 1: 140}\n",
      "{'DecisionTreeRegressor': {'Accuracy': 0.7303, 'F1': 0.5548},\n",
      " 'LinearRegression': {'Accuracy': 0.7635, 'F1': 0.678}}\n",
      "{'DecisionTreeRegressor': {'Demographic parity difference': 0.02140264606018033,\n",
      "                           'Demographic parity ratio': 0.9332310614361896,\n",
      "                           'Equalized odds difference': 0.02851524090462143,\n",
      "                           'Equalized odds ratio': 0.9107142857142858},\n",
      " 'LinearRegression': {'Demographic parity difference': 0.1461187214611872,\n",
      "                      'Demographic parity ratio': 0.6952380952380952,\n",
      "                      'Equalized odds difference': 0.2359882005899705,\n",
      "                      'Equalized odds ratio': 0.738562091503268}}\n",
      "\n",
      "Dataframe 2\n",
      "Class balance:\n",
      "{0: 337, 1: 134}\n",
      "{'DecisionTreeRegressor': {'Accuracy': 0.7771, 'F1': 0.6263},\n",
      " 'LinearRegression': {'Accuracy': 0.7261, 'F1': 0.6195}}\n",
      "{'DecisionTreeRegressor': {'Demographic parity difference': 0.14471721922679823,\n",
      "                           'Demographic parity ratio': 0.5748230535894843,\n",
      "                           'Equalized odds difference': 0.33867276887871844,\n",
      "                           'Equalized odds ratio': 0.0},\n",
      " 'LinearRegression': {'Demographic parity difference': 0.48686474704600213,\n",
      "                      'Demographic parity ratio': 0.08198139736102097,\n",
      "                      'Equalized odds difference': 0.7290617848970251,\n",
      "                      'Equalized odds ratio': 0.0365296803652968}}\n",
      "\n",
      "Dataframe 3\n",
      "Class balance:\n",
      "{0: 369, 1: 125}\n",
      "{'DecisionTreeRegressor': {'Accuracy': 0.7753, 'F1': 0.605},\n",
      " 'LinearRegression': {'Accuracy': 0.7328, 'F1': 0.6229}}\n",
      "{'DecisionTreeRegressor': {'Demographic parity difference': 0.3385098039215686,\n",
      "                           'Demographic parity ratio': 0.14804579549940783,\n",
      "                           'Equalized odds difference': 0.30434782608695654,\n",
      "                           'Equalized odds ratio': 0.1052347544522396},\n",
      " 'LinearRegression': {'Demographic parity difference': 0.19040896358543413,\n",
      "                      'Demographic parity ratio': 0.6201948864652245,\n",
      "                      'Equalized odds difference': 0.29565217391304355,\n",
      "                      'Equalized odds ratio': 0.6699029126213591}}\n",
      "\n",
      "Dataframe 4\n",
      "Class balance:\n",
      "{0: 323, 1: 170}\n",
      "{'DecisionTreeRegressor': {'Accuracy': 0.716, 'F1': 0.5625},\n",
      " 'LinearRegression': {'Accuracy': 0.7383, 'F1': 0.683}}\n",
      "{'DecisionTreeRegressor': {'Demographic parity difference': 0.15278838808250572,\n",
      "                           'Demographic parity ratio': 0.6363636363636364,\n",
      "                           'Equalized odds difference': 0.2092448399456186,\n",
      "                           'Equalized odds ratio': 0.4103099965168931},\n",
      " 'LinearRegression': {'Demographic parity difference': 0.16386554621848737,\n",
      "                      'Demographic parity ratio': 0.7291666666666667,\n",
      "                      'Equalized odds difference': 0.22333456927450257,\n",
      "                      'Equalized odds ratio': 0.5384418901660281}}\n",
      "\n"
     ]
    }
   ],
   "source": [
    "# Analyze the 4 merged datasets\n",
    "\n",
    "import pprint\n",
    "\n",
    "for idx, df in enumerate(dfs_synth):\n",
    "    X_train, X_test, y_train, y_test = split_data(df)\n",
    "    model_dict = train_models(X_train, y_train)\n",
    "    ml_metrics = get_ml_metrics(model_dict, X_test, y_test)\n",
    "    fairness_metrics = get_fairness_metrics(model_dict, X_test, y_test)\n",
    "\n",
    "    print(\"Dataframe\", idx+1)\n",
    "    print(\"Class balance:\")\n",
    "    pprint.pprint(y_test.value_counts().to_dict())\n",
    "    pprint.pprint(ml_metrics)\n",
    "    pprint.pprint(fairness_metrics)\n",
    "    print()"
   ]
  }
 ],
 "metadata": {
  "kernelspec": {
   "display_name": "hcml_project",
   "language": "python",
   "name": "python3"
  },
  "language_info": {
   "codemirror_mode": {
    "name": "ipython",
    "version": 3
   },
   "file_extension": ".py",
   "mimetype": "text/x-python",
   "name": "python",
   "nbconvert_exporter": "python",
   "pygments_lexer": "ipython3",
   "version": "3.11.4"
  }
 },
 "nbformat": 4,
 "nbformat_minor": 2
}
