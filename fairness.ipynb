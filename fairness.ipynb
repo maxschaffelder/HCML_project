{
 "cells": [
  {
   "cell_type": "markdown",
   "metadata": {},
   "source": [
    "# Import"
   ]
  },
  {
   "cell_type": "code",
   "execution_count": 11,
   "metadata": {},
   "outputs": [],
   "source": [
    "import pandas as pd\n",
    "import numpy as np\n",
    "from sklearn.model_selection import train_test_split\n",
    "from sklearn.ensemble import RandomForestRegressor\n",
    "from sklearn.tree import DecisionTreeRegressor\n",
    "\n",
    "from sklearn.metrics import accuracy_score, f1_score\n",
    "\n",
    "from fairlearn.metrics import (demographic_parity_difference,\n",
    "                               demographic_parity_ratio,\n",
    "                               equalized_odds_difference,\n",
    "                               equalized_odds_ratio,\n",
    "                               MetricFrame,\n",
    "                               false_positive_rate,\n",
    "                               selection_rate,\n",
    "                               true_positive_rate)\n",
    "\n",
    "import collections"
   ]
  },
  {
   "cell_type": "markdown",
   "metadata": {},
   "source": [
    "# Parameters"
   ]
  },
  {
   "cell_type": "code",
   "execution_count": 12,
   "metadata": {},
   "outputs": [],
   "source": [
    "# parameters and configuration\n",
    "INC_THRESHOLD = 50_000\n",
    "ROUND_DIGITS = 4\n",
    "SELECT_FEATURES = [#'AGEP', \n",
    "                   'COW',\n",
    "                   'SCHL',\n",
    "                   #'MAR', \n",
    "                   'OCCP', \n",
    "                   #'POBP',\n",
    "                   #'RELP', \n",
    "                   'WKHP', \n",
    "                   #'SEX',\n",
    "                   #'RAC1P', \n",
    "                   'ST']\n",
    "NOMINAL_FEATURES = [\"COW\",\n",
    "                     \"OCCP\",\n",
    "                     \"ST\"]\n",
    "SPLIT_SEED = 42\n",
    "TEST_SIZE = 0.3"
   ]
  },
  {
   "cell_type": "markdown",
   "metadata": {},
   "source": [
    "# Read data"
   ]
  },
  {
   "cell_type": "code",
   "execution_count": 13,
   "metadata": {},
   "outputs": [],
   "source": [
    "df_1 = pd.read_csv(\"data/prompt_1_300.csv\", index_col=\"id\")\n",
    "df_2 = pd.read_csv(\"data/prompt_2_336.csv\", index_col=\"id\")\n",
    "df_4 = pd.read_csv(\"data/prompt_3_410.csv\", index_col=\"id\")\n",
    "df_5 = pd.read_csv(\"data/prompt_4_410.csv\", index_col=\"id\")\n",
    "df_CTGAN = pd.read_csv(\"data/CTGAN_data.csv\")\n",
    "df_GC = pd.read_csv(\"data/GC_data.csv\")\n",
    "df_TVAE = pd.read_csv(\"data/TVAE_data.csv\")\n",
    "df_ROS = pd.read_csv(\"data/ROS_data.csv\")\n",
    "\n",
    "\n",
    "df_og = pd.read_csv(\"data/ACS_50k.csv\", index_col=\"id\")\n",
    "df_og_50k = df_og.copy()"
   ]
  },
  {
   "cell_type": "code",
   "execution_count": 14,
   "metadata": {},
   "outputs": [
    {
     "name": "stdout",
     "output_type": "stream",
     "text": [
      "Number of feature values for selected nominal features\n",
      "----------------------\n",
      "COW 8\n",
      "OCCP 528\n",
      "ST 51\n",
      "----------------------\n",
      "Total feature values: 587\n"
     ]
    }
   ],
   "source": [
    "total_feature_values = 0\n",
    "print(\"Number of feature values for selected nominal features\")\n",
    "print(\"----------------------\")\n",
    "for feat in NOMINAL_FEATURES:\n",
    "    num_feats = len(df_og[feat].unique())\n",
    "    print(feat, num_feats)\n",
    "    total_feature_values += num_feats\n",
    "\n",
    "print(\"----------------------\")\n",
    "print(\"Total feature values:\", total_feature_values)"
   ]
  },
  {
   "cell_type": "markdown",
   "metadata": {},
   "source": [
    "# Pre-processing"
   ]
  },
  {
   "cell_type": "code",
   "execution_count": 15,
   "metadata": {},
   "outputs": [],
   "source": [
    "dfs_dict = {\"0\": df_og, \"1\": df_1, \"2\": df_2, \"3\": df_4, \"4\": df_5, \"CTGAN\": df_CTGAN, \"GC\": df_GC, \"TVAE\": df_TVAE, \"ROS\": df_ROS}\n",
    "\n",
    "for id, df in dfs_dict.items():\n",
    "    if id != \"0\":\n",
    "        dfs_dict[id] = pd.concat([df, df_og], axis=0, ignore_index=True)\n",
    "    dfs_dict[id].SCHL = dfs_dict[id].SCHL.astype(int)\n",
    "    dfs_dict[id].WKHP = dfs_dict[id].WKHP.astype(int)\n",
    "    dfs_dict[id].reset_index()\n",
    "\n",
    "dfs_dict = collections.OrderedDict(sorted(dfs_dict.items()))"
   ]
  },
  {
   "cell_type": "markdown",
   "metadata": {},
   "source": [
    "# Data splitting"
   ]
  },
  {
   "cell_type": "code",
   "execution_count": 16,
   "metadata": {},
   "outputs": [],
   "source": [
    "def split_data(df):\n",
    "\n",
    "    X = df[SELECT_FEATURES]\n",
    "    X = pd.get_dummies(X, columns=NOMINAL_FEATURES)\n",
    "    y = df['PINCP']\n",
    "    X_train, X_test, y_train, y_test = train_test_split(X, y, test_size=TEST_SIZE, random_state=SPLIT_SEED)\n",
    "    y_test = (y_test > INC_THRESHOLD).astype(int)\n",
    "\n",
    "    return X_train, X_test, y_train, y_test"
   ]
  },
  {
   "cell_type": "markdown",
   "metadata": {},
   "source": [
    "# Training"
   ]
  },
  {
   "cell_type": "code",
   "execution_count": 17,
   "metadata": {},
   "outputs": [],
   "source": [
    "def train_models(X_train, y_train):\n",
    "    ml_algos = [RandomForestRegressor(n_estimators=200,\n",
    "                                      bootstrap=True,\n",
    "                                      max_samples=0.8, \n",
    "                                      random_state=42,\n",
    "                                      n_jobs=-1)]\n",
    "\n",
    "    models_dict = {}\n",
    "    for algo in ml_algos:\n",
    "        model = algo\n",
    "        model.fit(X_train, y_train)\n",
    "        models_dict[algo.__class__.__name__] = model\n",
    "    return models_dict"
   ]
  },
  {
   "cell_type": "markdown",
   "metadata": {},
   "source": [
    "# Metrics"
   ]
  },
  {
   "cell_type": "code",
   "execution_count": 18,
   "metadata": {},
   "outputs": [],
   "source": [
    "def _make_predictions(model_dict, X_test):\n",
    "    preds_dict = {}\n",
    "    for algo, model in model_dict.items():\n",
    "        pred = model.predict(X_test)\n",
    "        pred = (pred > INC_THRESHOLD).astype(int)\n",
    "        preds_dict[algo] = pred\n",
    "    return preds_dict\n",
    "\n",
    "\n",
    "def get_ml_metrics(model_dict, X_test, y_test):\n",
    "    preds_dict = _make_predictions(model_dict, X_test)\n",
    "    metrics_dict = {}\n",
    "    for algo, pred in preds_dict.items():\n",
    "        metrics_dict[algo] = {}\n",
    "        metrics_dict[algo]['Accuracy'] = round(accuracy_score(y_test, pred), ndigits=ROUND_DIGITS)\n",
    "        metrics_dict[algo]['F1'] = round(f1_score(y_test, pred), ndigits=ROUND_DIGITS)\n",
    "    return metrics_dict\n",
    "\n",
    "\n",
    "def _get_parity_frame(model_dict, y_true, X_test, sensitive_features):\n",
    "        preds_dict = _make_predictions(model_dict, X_test)\n",
    "        frames_dict = {}\n",
    "        for algo, pred in preds_dict.items():\n",
    "            sel_rate = MetricFrame(\n",
    "                metrics=selection_rate,\n",
    "                y_true=y_true,\n",
    "                y_pred=pred,\n",
    "                sensitive_features=sensitive_features\n",
    "            )\n",
    "            frames_dict[algo] = sel_rate\n",
    "        return frames_dict\n",
    "\n",
    "\n",
    "def _get_equalized_odds_frame(model_dict, y_true, X_test, sensitive_features):\n",
    "        preds_dict = _make_predictions(model_dict, X_test)\n",
    "        frames_dict = {}\n",
    "        for algo, pred in preds_dict.items():\n",
    "            fns = {\"tpr\": true_positive_rate, \"fpr\": false_positive_rate}\n",
    "            eo = MetricFrame(\n",
    "                metrics=fns,\n",
    "                y_true=y_true,\n",
    "                y_pred=pred,\n",
    "                sensitive_features=sensitive_features,\n",
    "            )\n",
    "            frames_dict[algo] = eo\n",
    "        return frames_dict\n",
    "\n",
    "\n",
    "def get_fairness_frames(model_dict, y_true, X_test, sensitive_features):\n",
    "    frames_dict = {}\n",
    "    for algo, model in model_dict.items():\n",
    "          frames_dict[algo] = {}\n",
    "          parity_dict = _get_parity_frame({algo: model}, y_true, X_test, sensitive_features)\n",
    "          eo_dict = _get_equalized_odds_frame({algo: model}, y_true, X_test, sensitive_features)\n",
    "          frames_dict[algo]['Demographic parity frame'] = parity_dict[algo]\n",
    "          frames_dict[algo]['Equalized odds frame'] = eo_dict[algo]\n",
    "    return frames_dict\n",
    "     \n",
    "\n",
    "\n",
    "def get_fairness_metrics(model_dict, X_test, y_test, sensitive_features):\n",
    "    preds_dict = _make_predictions(model_dict, X_test)\n",
    "    metrics_dict = {}\n",
    "    for algo, pred in preds_dict.items():\n",
    "        metrics_dict[algo] = {}\n",
    "        metrics_dict[algo]['Demographic parity difference'] = \\\n",
    "            demographic_parity_difference(y_test, pred, sensitive_features=sensitive_features)\n",
    "        metrics_dict[algo]['Demographic parity ratio'] = \\\n",
    "            demographic_parity_ratio(y_test, pred, sensitive_features=sensitive_features)\n",
    "        metrics_dict[algo]['Equalized odds difference'] = \\\n",
    "            equalized_odds_difference(y_test, pred, sensitive_features=sensitive_features)\n",
    "        metrics_dict[algo]['Equalized odds ratio'] = \\\n",
    "            equalized_odds_ratio(y_test, pred, sensitive_features=sensitive_features)\n",
    "    return metrics_dict"
   ]
  },
  {
   "cell_type": "markdown",
   "metadata": {},
   "source": [
    "# Main code\n",
    "\n",
    "First, analyzing the whole 50k dataset by running fairness metrics on all races\n",
    "\n",
    "Second, analyzing the merged synthetic datasets"
   ]
  },
  {
   "cell_type": "code",
   "execution_count": 19,
   "metadata": {},
   "outputs": [],
   "source": [
    "# Analyze fairness metrics on whole 50k dataset\n",
    "\n",
    "# X_train, X_test, y_train, y_test = split_data(df_og_50k)\n",
    "# model_dict = train_models(X_train, y_train)\n",
    "# fairness_metrics = get_fairness_metrics(model_dict, X_test, y_test)\n",
    "# frames = get_fairness_frames(model_dict, y_test, X_test)\n",
    "# for algo, frame_dict in frames.items():\n",
    "#     print(algo)\n",
    "#     print()\n",
    "#     for name, frame in frame_dict.items():\n",
    "#         print(name)\n",
    "#         display(frame.by_group)"
   ]
  },
  {
   "cell_type": "code",
   "execution_count": 20,
   "metadata": {},
   "outputs": [],
   "source": [
    "# Analyze the 4 merged datasets + the original\n",
    "\n",
    "abs_rates = []\n",
    "diff_rates = []\n",
    "metrics = []\n",
    "\n",
    "for id, df in dfs_dict.items():\n",
    "    X_train, X_test, y_train, y_test = split_data(df)\n",
    "    \n",
    "    model_dict = train_models(X_train, y_train)\n",
    "    \n",
    "    fairness_metrics = get_fairness_metrics(model_dict, X_test, y_test, df['RAC1P'].loc[X_test.index])\n",
    "    fairness_frames = get_fairness_frames(model_dict, y_test, X_test, df['RAC1P'].loc[X_test.index])\n",
    "    metric_frames = get_ml_metrics(model_dict, X_test, y_test)\n",
    "    df_fair = fairness_frames['RandomForestRegressor']['Equalized odds frame'].by_group\n",
    "    df_metrics = metric_frames['RandomForestRegressor']\n",
    "\n",
    "    for idx, group in enumerate([3,6]):\n",
    "        abs_rates.append({'Dataset_ID': id,\n",
    "                        'Class': group, \n",
    "                        'TPR': df_fair.at[group, 'tpr'], \n",
    "                        'FPR': df_fair.at[group, 'fpr']})\n",
    "        \n",
    "    diff_rates.append({'Dataset_ID': id,\n",
    "                        'TPR_Diff': abs(df_fair.at[3, 'tpr'] - df_fair.at[6, 'tpr']),\n",
    "                        'FPR_Diff': abs(df_fair.at[3, 'fpr'] - df_fair.at[6, 'fpr'])})\n",
    "    \n",
    "    metrics.append({'Dataset_ID': id,\n",
    "                    'Accuracy': df_metrics['Accuracy'],\n",
    "                    'F1': df_metrics['F1']})\n",
    "        \n",
    "pd.DataFrame(abs_rates).to_csv(\"results/tpr_fpr_abs.csv\", index=False)\n",
    "pd.DataFrame(diff_rates).to_csv(\"results/tpr_fpr_diff.csv\", index=False)\n",
    "pd.DataFrame(metrics).to_csv(\"results/metrics.csv\", index=False)"
   ]
  }
 ],
 "metadata": {
  "kernelspec": {
   "display_name": "hcml_project",
   "language": "python",
   "name": "python3"
  },
  "language_info": {
   "codemirror_mode": {
    "name": "ipython",
    "version": 3
   },
   "file_extension": ".py",
   "mimetype": "text/x-python",
   "name": "python",
   "nbconvert_exporter": "python",
   "pygments_lexer": "ipython3",
   "version": "3.10.12"
  }
 },
 "nbformat": 4,
 "nbformat_minor": 2
}
